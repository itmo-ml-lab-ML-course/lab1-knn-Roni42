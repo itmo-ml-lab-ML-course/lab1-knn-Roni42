{
 "cells": [
  {
   "cell_type": "markdown",
   "metadata": {
    "collapsed": false,
    "id": "AzNoyY4vT03K"
   },
   "source": [
    "## Initial work"
   ]
  },
  {
   "cell_type": "markdown",
   "source": [
    "## init (+data)"
   ],
   "metadata": {
    "id": "jH5xgI1x_ot7"
   }
  },
  {
   "cell_type": "code",
   "execution_count": null,
   "metadata": {
    "colab": {
     "base_uri": "https://localhost:8080/"
    },
    "id": "ht5LckPyT03M",
    "outputId": "fd52fea8-bd2b-4469-a60f-5709f68c2c5f"
   },
   "outputs": [],
   "source": [
    "!pip install matplotlib\n",
    "!pip install optuna"
   ]
  },
  {
   "cell_type": "markdown",
   "metadata": {
    "collapsed": false,
    "id": "IhRUGWXbT03M"
   },
   "source": [
    "### imports"
   ]
  },
  {
   "cell_type": "code",
   "execution_count": null,
   "metadata": {
    "id": "f27OIjTMT03N"
   },
   "outputs": [],
   "source": [
    "import numpy as np\n",
    "import csv\n",
    "import pandas as pd\n",
    "\n",
    "from sklearn.model_selection import train_test_split"
   ]
  },
  {
   "cell_type": "markdown",
   "metadata": {
    "collapsed": false,
    "id": "0NtUJzvjT03N"
   },
   "source": [
    "### data preporation"
   ]
  },
  {
   "cell_type": "markdown",
   "metadata": {
    "collapsed": false,
    "id": "ZemSogpPT03N"
   },
   "source": [
    "download data"
   ]
  },
  {
   "cell_type": "code",
   "execution_count": null,
   "metadata": {
    "colab": {
     "base_uri": "https://localhost:8080/",
     "height": 348
    },
    "id": "QuKQn-qNT03N",
    "outputId": "f2468827-5d0d-40a2-dd6e-8557a6536704"
   },
   "outputs": [],
   "source": [
    "df = pd.read_csv(\"https://github.com/Roni42/just_some_public_data/blob/main/good_disk_new.csv?raw=true\")\n",
    "df['length_minutes'] = df['length_minutes'].map(lambda num: int(num[1:-1]))\n",
    "df['year'] = df['year'].map(lambda num: int(num[1:-1]))\n",
    "df['price_k'] = df['price'].map(lambda num: int((num + 500) // 1000))\n",
    "df.head(5)"
   ]
  },
  {
   "source": [
    "# @title year\n",
    "\n",
    "from matplotlib import pyplot as plt\n",
    "df['year'].plot(kind='hist', bins=20, title='year')\n",
    "plt.gca().spines[['top', 'right',]].set_visible(False)"
   ],
   "cell_type": "code",
   "execution_count": null,
   "outputs": [],
   "metadata": {
    "cellView": "form",
    "colab": {
     "base_uri": "https://localhost:8080/",
     "height": 452
    },
    "id": "2eegwQZFYKQC",
    "outputId": "1b4a67c1-9053-4011-bf92-9dd312ee874e"
   }
  },
  {
   "cell_type": "code",
   "source": [
    "df=df.head(1000)"
   ],
   "metadata": {
    "id": "gdqi7Kc_YCGu"
   },
   "execution_count": null,
   "outputs": []
  },
  {
   "cell_type": "markdown",
   "metadata": {
    "collapsed": false,
    "id": "yb192AvyT03O"
   },
   "source": [
    "fit transform"
   ]
  },
  {
   "cell_type": "code",
   "execution_count": null,
   "metadata": {
    "colab": {
     "base_uri": "https://localhost:8080/",
     "height": 458
    },
    "id": "pOMfi_8RT03O",
    "outputId": "c7a0cb1f-d3c0-4d03-b029-8e13f3a2100f"
   },
   "outputs": [],
   "source": [
    "from sklearn.preprocessing import StandardScaler\n",
    "\n",
    "numerical_features = ['length_minutes', 'year', 'number_of_disks', 'num_of_rates']\n",
    "scaler = StandardScaler()\n",
    "df[numerical_features] = scaler.fit_transform(df[numerical_features])\n",
    "df.head(5)"
   ]
  },
  {
   "source": [
    "# @title year\n",
    "\n",
    "from matplotlib import pyplot as plt\n",
    "df['year'].plot(kind='hist', bins=20, title='year')\n",
    "plt.gca().spines[['top', 'right',]].set_visible(False)"
   ],
   "cell_type": "code",
   "execution_count": null,
   "outputs": [],
   "metadata": {
    "cellView": "form",
    "colab": {
     "base_uri": "https://localhost:8080/",
     "height": 452
    },
    "id": "nJyv1dYQYFrf",
    "outputId": "1714d941-d0c9-4480-87b9-8b96421660c3"
   }
  },
  {
   "cell_type": "code",
   "execution_count": null,
   "metadata": {
    "colab": {
     "base_uri": "https://localhost:8080/"
    },
    "id": "LNVksD_meKV1",
    "outputId": "f67bc495-fade-4ceb-b9ac-fc4a281de45c"
   },
   "outputs": [],
   "source": [
    "df = df[df.price_k<13]\n",
    "pd.unique(df.price_k)"
   ]
  },
  {
   "cell_type": "markdown",
   "metadata": {
    "collapsed": false,
    "id": "lCRveh7yT03O"
   },
   "source": [
    "show"
   ]
  },
  {
   "cell_type": "code",
   "execution_count": null,
   "metadata": {
    "colab": {
     "base_uri": "https://localhost:8080/",
     "height": 741
    },
    "id": "MqbwCdEpT03O",
    "outputId": "c83e4e3f-2570-4f08-edf5-defd04f6736a"
   },
   "outputs": [],
   "source": [
    "df.info()\n",
    "df.describe()"
   ]
  },
  {
   "cell_type": "code",
   "source": [],
   "metadata": {
    "id": "oR3PK91PXyBj"
   },
   "execution_count": null,
   "outputs": []
  },
  {
   "cell_type": "markdown",
   "metadata": {
    "collapsed": false,
    "id": "Jkkn2bo6T03O"
   },
   "source": [
    "separate data"
   ]
  },
  {
   "cell_type": "code",
   "execution_count": null,
   "metadata": {
    "id": "F5kZv-ueT03O"
   },
   "outputs": [],
   "source": [
    "x = df[['number_of_disks', 'length_minutes', 'year', 'num_of_rates']]\n",
    "y = df['price_k'].values.tolist()"
   ]
  },
  {
   "cell_type": "code",
   "execution_count": null,
   "metadata": {
    "colab": {
     "base_uri": "https://localhost:8080/"
    },
    "id": "Kx0mAjM3T03O",
    "outputId": "e59f6832-7630-4d59-b5b1-94aa0729451e"
   },
   "outputs": [],
   "source": [
    "print(x.shape, pd.DataFrame(y).shape)\n",
    "y = np.ravel(y)\n",
    "y.shape"
   ]
  },
  {
   "cell_type": "code",
   "execution_count": null,
   "metadata": {
    "id": "56jxfJhIT03P"
   },
   "outputs": [],
   "source": [
    "len(y)\n",
    "x_train, x_temp, y_train, y_temp = train_test_split(x, y, shuffle=True, test_size=0.3, random_state=42)\n",
    "x_valid, x_test, y_valid, y_test = train_test_split(x_temp, y_temp, shuffle=True, test_size=0.5, random_state=42)"
   ]
  },
  {
   "cell_type": "markdown",
   "source": [
    "## algos\n"
   ],
   "metadata": {
    "id": "qhJXkljf_2aN"
   }
  },
  {
   "cell_type": "markdown",
   "source": [
    "###lib"
   ],
   "metadata": {
    "id": "BbjcGWWA_3PO"
   }
  },
  {
   "cell_type": "markdown",
   "metadata": {
    "collapsed": false,
    "id": "iIB_uZqgT03P"
   },
   "source": [
    "Lib version"
   ]
  },
  {
   "cell_type": "code",
   "execution_count": null,
   "metadata": {
    "id": "WnhRoNzVT03P"
   },
   "outputs": [],
   "source": [
    "from sklearn.neighbors import KNeighborsClassifier\n",
    "from sklearn.metrics import accuracy_score\n",
    "import matplotlib\n",
    "import matplotlib.pyplot as plt"
   ]
  },
  {
   "cell_type": "code",
   "execution_count": null,
   "metadata": {
    "colab": {
     "base_uri": "https://localhost:8080/",
     "height": 1000,
     "referenced_widgets": [
      "06e69e6bdbfa4a36b4cc5273848e7945",
      "cd90cdd7d58f43798471487b2b0185e0",
      "fe81eae8c5f6449caa36c19a2907d99d",
      "b8c2cd001d124dfab83466f9eb0df71a",
      "ad9a6e9560c84993966681d82c2fa9b1",
      "7284137f916b482386ac4df962a04533",
      "99588b1392fb40a795c5c552ef408dc1",
      "e0e39cf987e749719a4f256231db7b5a",
      "ea6a77b858bf48f5bf25a65fd8334542",
      "2c9620e51a264e0087e9534cb51f8455",
      "54a827b9b8ec424d96874ab13db1561f"
     ]
    },
    "id": "Gs-r-QHcT03P",
    "outputId": "010c1862-5b02-4c93-b779-b36f3d672a1b"
   },
   "outputs": [],
   "source": [
    "import optuna\n",
    "\n",
    "\n",
    "def lib_optimize(trial):\n",
    "    n_neighbors = trial.suggest_int('n_neighbors', 1, 200)\n",
    "    weights = trial.suggest_categorical('weights', ['uniform', 'distance'])\n",
    "\n",
    "    knn = KNeighborsClassifier(\n",
    "        n_neighbors=n_neighbors,\n",
    "        weights=weights,\n",
    "    )\n",
    "    knn.fit(x_train, y_train)\n",
    "    y_pred = knn.predict(x_valid)\n",
    "    return accuracy_score(y_valid, y_pred)\n",
    "\n",
    "\n",
    "study = optuna.create_study(direction='maximize')\n",
    "study.optimize(lib_optimize, n_trials=400, show_progress_bar=True)\n",
    "\n",
    "best_params = study.best_params\n",
    "print(f\"Best params: {best_params}\")"
   ]
  },
  {
   "cell_type": "code",
   "source": [
    "print(study.best_params, study.best_value)"
   ],
   "metadata": {
    "colab": {
     "base_uri": "https://localhost:8080/"
    },
    "id": "UtX06osHY0Yl",
    "outputId": "e87f2893-eb69-413c-ab9c-de675c8235a2"
   },
   "execution_count": null,
   "outputs": []
  },
  {
   "cell_type": "markdown",
   "metadata": {
    "collapsed": false,
    "id": "DyzOGSXjT03P"
   },
   "source": [
    "`{'n_neighbors': 19, 'weights': 'distance'}`"
   ]
  },
  {
   "cell_type": "code",
   "execution_count": null,
   "metadata": {
    "colab": {
     "base_uri": "https://localhost:8080/"
    },
    "id": "rUF4jt3UT03P",
    "outputId": "97be2047-536b-40a0-a607-11adf5996cd3"
   },
   "outputs": [],
   "source": [
    "model = KNeighborsClassifier(n_neighbors=19, weights='distance')\n",
    "model.fit(x_train, y_train)\n",
    "y_pred = model.predict(x_valid)\n",
    "print(accuracy_score(y_valid, y_pred))"
   ]
  },
  {
   "cell_type": "markdown",
   "metadata": {
    "id": "HFvOESPtnyXx"
   },
   "source": [
    "`Trial 63 finished with value: 0.6213292117465224 and parameters: {'n_neighbors': 123, 'weights': 'distance'}. Best is trial 63 with value: 0.6213292117465224`"
   ]
  },
  {
   "cell_type": "markdown",
   "source": [
    "####own optimise1.31."
   ],
   "metadata": {
    "id": "MiZpGzfnAT7d"
   }
  },
  {
   "cell_type": "code",
   "execution_count": null,
   "metadata": {
    "colab": {
     "base_uri": "https://localhost:8080/",
     "height": 564
    },
    "id": "p0a-ZgjfT03P",
    "outputId": "6bc9f58d-4f26-464c-b077-27cdc82575cf"
   },
   "outputs": [],
   "source": [
    "neighbors_range = [i for i in range(1, 30)]\n",
    "\n",
    "train_scores = []\n",
    "valid_scores = []\n",
    "test_scores = []\n",
    "train_scores1 = []\n",
    "valid_scores1 = []\n",
    "test_scores1 = []\n",
    "\n",
    "for n_neighbors in neighbors_range:\n",
    "    model = KNeighborsClassifier(n_neighbors=n_neighbors, weights='uniform')\n",
    "    model.fit(x_train, y_train)\n",
    "\n",
    "    y_train_pred = model.predict(x_train)\n",
    "    train_accuracy = accuracy_score(y_train, y_train_pred)\n",
    "    train_scores.append(train_accuracy)\n",
    "\n",
    "    y_valid_pred = model.predict(x_valid)\n",
    "    valid_accuracy = accuracy_score(y_valid, y_valid_pred)\n",
    "    valid_scores.append(valid_accuracy)\n",
    "\n",
    "    y_test_pred = model.predict(x_test)\n",
    "    test_accuracy = accuracy_score(y_test, y_test_pred)\n",
    "    test_scores.append(test_accuracy)\n",
    "\n",
    "    model = KNeighborsClassifier(n_neighbors=n_neighbors, weights='distance')\n",
    "    model.fit(x_train, y_train)\n",
    "\n",
    "    y_train_pred = model.predict(x_train)\n",
    "    train_accuracy = accuracy_score(y_train, y_train_pred)\n",
    "    train_scores1.append(train_accuracy)\n",
    "\n",
    "    y_valid_pred = model.predict(x_valid)\n",
    "    valid_accuracy = accuracy_score(y_valid, y_valid_pred)\n",
    "    valid_scores1.append(valid_accuracy)\n",
    "\n",
    "    y_test_pred = model.predict(x_test)\n",
    "    test_accuracy = accuracy_score(y_test, y_test_pred)\n",
    "    test_scores1.append(test_accuracy)\n",
    "\n",
    "plt.figure(figsize=(10, 6))\n",
    "plt.plot(neighbors_range, train_scores, label='Train Accuracy')\n",
    "plt.plot(neighbors_range, valid_scores, label='Valid (Test) Accuracy')\n",
    "plt.plot(neighbors_range, test_scores, label='Real Test Accuracy')\n",
    "\n",
    "plt.plot(neighbors_range, train_scores1, label='Train Accuracy | distance')\n",
    "plt.plot(neighbors_range, valid_scores1, label='Valid (Test) Accuracy | distance')\n",
    "plt.plot(neighbors_range, test_scores1, label='Real Test Accuracy | distance')\n",
    "\n",
    "plt.xlabel('Number of Neighbors')\n",
    "plt.ylabel('Accuracy')\n",
    "plt.title('Impact of Number of Neighbors on Model Accuracy')\n",
    "\n",
    "plt.legend()\n",
    "plt.show()"
   ]
  },
  {
   "cell_type": "markdown",
   "source": [
    "### my version"
   ],
   "metadata": {
    "id": "cUu27a4LAXYY"
   }
  },
  {
   "cell_type": "code",
   "execution_count": null,
   "metadata": {
    "id": "DKpL8O1mT03P"
   },
   "outputs": [],
   "source": [
    "from scipy import stats\n",
    "import math\n",
    "\n",
    "from sklearn.neighbors import NearestNeighbors\n",
    "import numpy as np\n",
    "import pandas as pd\n",
    "\n",
    "PI = np.pi\n",
    "\n",
    "kernels = ['uniform', 'gaussian', 'triangular', 'epanechnikov']\n",
    "metrics = ['manhattan', 'euclidean', 'cosine']\n",
    "windows = ['fixed', 'mutable']\n",
    "\n",
    "\n",
    "class KNN:\n",
    "    _x: pd.DataFrame = None\n",
    "    _y: np.array = None\n",
    "\n",
    "    def __init__(\n",
    "            self,\n",
    "            kernel: str = 'gaussian',\n",
    "            n_neighbors: int = 3,\n",
    "            window: str = 'mutable',\n",
    "            metric: str = 'euclidean',\n",
    "    ):\n",
    "        assert kernel in kernels, f\"kernel must be in {kernels}\"\n",
    "        ker = {\n",
    "            'uniform': lambda u: (np.float64(0.5) * u) * (np.abs(u) < 1.0),\n",
    "            'triangular': lambda u: (1 - np.abs(u)) * (np.abs(u) < 1.0),\n",
    "            'epanechnikov': lambda u: (3 / 4 * (1 - u ** 2)) * (np.abs(u) < 1.0),\n",
    "            'gaussian': lambda u: 1 / np.sqrt(2 * PI) * np.exp(u ** 2 / -2),\n",
    "        }\n",
    "        self.ker_name = kernel\n",
    "        self.kernel = ker[kernel]\n",
    "        self.n_neighbors = n_neighbors\n",
    "        assert window in windows, f\"window must be in {windows}\"\n",
    "        self.window = window\n",
    "        assert metric in metrics, f\"metric must be in {metrics}\"\n",
    "        metr = {\n",
    "            'manhattan': lambda x, y: np.max(np.abs(x - y)),\n",
    "            'euclidean': lambda x, y: np.sqrt(np.sum((x - y) ** 2)),\n",
    "            'cosine': lambda x, y: 1 - np.dot(x, y) / (np.sqrt(np.dot(x, x)) * np.sqrt(np.dot(y, y)))\n",
    "        }\n",
    "        self.NN = NearestNeighbors(metric=metr[metric])\n",
    "\n",
    "\n",
    "    def fit(self, x: pd.DataFrame, y: np.array):\n",
    "        assert len(x) == len(y), \"x and y must be the same len\"\n",
    "        assert len(x) > 0, \"x and y must be > 1 in len\"\n",
    "        # self._x = x\n",
    "        self._y = y\n",
    "        self.NN.fit(x.values)\n",
    "        return self\n",
    "\n",
    "\n",
    "    def one_iter(self, x, n_neighbors: int = None, weights: np.ndarray = None):\n",
    "        if n_neighbors is not None:\n",
    "            self.n_neighbors = n_neighbors\n",
    "        if weights is None:\n",
    "            weights = np.ones(len(self._y))\n",
    "\n",
    "        if self.window == \"fixed\":\n",
    "            assert self.radius is not None, \"radius mast be not None\"\n",
    "            div = self.radius\n",
    "            if self.ker_name == 'gaussian':\n",
    "                self.radius = np.inf\n",
    "            dist, ind = self.NN.radius_neighbors(x, self.radius, return_distance=True)\n",
    "            ndist, nind = dist[0], ind[0]\n",
    "            assert len(ndist) != 0, \"radius not enought\"\n",
    "        else:\n",
    "            assert self.n_neighbors > 0, \"neighbours must be >= 1\"\n",
    "            dist, ind = self.NN.kneighbors(x, self.n_neighbors + 1, return_distance=True)\n",
    "            ndist, nind = dist[0], ind[0][:-1]\n",
    "            div = ndist[-1]\n",
    "            ndist = ndist[:-1]\n",
    "\n",
    "        # итоговые веса точек\n",
    "        m_dist = self.kernel(ndist / div) * weights[nind]\n",
    "        classes = self._y[nind]\n",
    "        res_w = {}\n",
    "        for i in range(len(classes)):\n",
    "            if classes[i] not in res_w:\n",
    "                res_w[classes[i]] = 0\n",
    "            res_w[classes[i]] += m_dist[i]\n",
    "        self.last_sum = sum(m_dist)\n",
    "        self.last_res = res_w\n",
    "        return max(res_w, key=res_w.get)\n",
    "\n",
    "\n",
    "    def predict(self, x, weights: np.ndarray = None, radius: float = None, n_neighbors: int = None):\n",
    "        if n_neighbors is not None:\n",
    "            self.n_neighbors = n_neighbors\n",
    "        if radius is not None:\n",
    "            self.radius = radius\n",
    "        xv = x.values\n",
    "        if weights is None:\n",
    "            weights = np.ones(len(self._y))\n",
    "\n",
    "        return list(map(lambda _x: self.one_iter([_x], weights=weights), xv))\n",
    "\n",
    "\n",
    "    def diff(self):\n",
    "        for k in self.last_res:\n",
    "            self.last_res[k] = self.last_res[k] / self.last_sum\n",
    "        return self.last_res\n"
   ]
  },
  {
   "cell_type": "markdown",
   "source": [
    "тестер:"
   ],
   "metadata": {
    "id": "UQXvbvVzwKR6"
   }
  },
  {
   "cell_type": "code",
   "source": [
    "model = KNN(\n",
    "    n_neighbors=13,\n",
    "    kernel='triangular',\n",
    "    metric='euclidean',\n",
    "    window='mutable'\n",
    ")\n",
    "model.fit(x_train, y_train)\n",
    "y_pred = model.predict(x_valid, radius=1.2)\n",
    "accuracy_score(y_valid, y_pred)\n"
   ],
   "metadata": {
    "colab": {
     "base_uri": "https://localhost:8080/"
    },
    "id": "oXfEZKXLKaCi",
    "outputId": "b23fd39a-8134-4241-f843-bb46217e1dcd"
   },
   "execution_count": null,
   "outputs": []
  },
  {
   "cell_type": "code",
   "execution_count": null,
   "metadata": {
    "id": "igYWA2XlT03P",
    "colab": {
     "base_uri": "https://localhost:8080/",
     "height": 1000,
     "referenced_widgets": [
      "eda728517a1f4e0a83e4dfe111859179",
      "f864ac158a994fd59cbb839721e0a668",
      "faa57e19189646a893182811cef04369",
      "2f02009ddcb6485184d96aa361ccd9b5",
      "6e884c79a4ee4b3c870071b53e22ac9e",
      "6c4fc53922984967a9a59a08bc286a08",
      "2648bc78734549baa0ef241f1f813131",
      "159c36de14f244a1ade6410368085000",
      "57dc1767e9a146c7a5a95c767b3a2789",
      "2b028cd822dd403495b5164c34c616f7",
      "d865199a2835404f84fef41bbe7822bf"
     ]
    },
    "outputId": "639e7342-951d-447d-c6fa-8c148aad1a6e"
   },
   "outputs": [],
   "source": [
    "import optuna\n",
    "# from KNNrealisation import KNN\n",
    "\n",
    "def my_optimize(trial):\n",
    "    n_neighbors = trial.suggest_int(\"n_neighbors\", 1, 100)\n",
    "    # print(window_param)\n",
    "    kernel = trial.suggest_categorical(\"kernel\", [\"uniform\", \"triangular\", \"epanechnikov\", \"gaussian\"])\n",
    "    metric = trial.suggest_categorical(\"metric\", [\"manhattan\", \"euclidean\", \"cosine\"])\n",
    "    window = trial.suggest_categorical(\"window\", [\"fixed\", \"mutable\"])\n",
    "    model = KNN(\n",
    "        kernel=kernel,\n",
    "        n_neighbors=n_neighbors,\n",
    "        metric=metric,\n",
    "        window=window)\n",
    "    model.fit(x_train, y_train)\n",
    "    if window == 'mutable':\n",
    "        neighbors = trial.suggest_int('neighbors', 2, 20)\n",
    "        res = model.predict(x_valid, kernel, n_neighbors=neighbors)\n",
    "    elif window == 'fixed':\n",
    "        radius = trial.suggest_float('radius', 1.2, 3)\n",
    "        res = model.predict(x_valid, kernel, radius=radius)\n",
    "\n",
    "    return accuracy_score(y_valid, res)\n",
    "\n",
    "\n",
    "\n",
    "study = optuna.create_study(direction='maximize')\n",
    "study.optimize(my_optimize, n_trials=400, show_progress_bar=True)\n",
    "\n",
    "best_params = study.best_params\n",
    "print(\"parans:\", study.best_params, \"\\nvalue:\", study.best_value)\n"
   ]
  },
  {
   "cell_type": "code",
   "execution_count": null,
   "metadata": {
    "id": "j4njFiFFk9JF",
    "colab": {
     "base_uri": "https://localhost:8080/"
    },
    "outputId": "7b9132ab-9549-48c9-e791-b9f7de54b42d"
   },
   "outputs": [],
   "source": [
    "print(study.best_trial, study.best_params, study.best_value, sep=\"\\n\")"
   ]
  },
  {
   "cell_type": "markdown",
   "metadata": {
    "collapsed": false,
    "id": "nk432mBcT03P"
   },
   "source": [
    "`Best params: {'n_neighbors': 78, 'kernel': 'epanechnikov', 'metric': 'euclidean'}`"
   ]
  },
  {
   "cell_type": "code",
   "source": [
    "model = KNN(\n",
    "    n_neighbors=19,\n",
    "    kernel='gaussian',\n",
    "    metric='euclidean',\n",
    "    window='mutable'\n",
    ")\n",
    "model.fit(x_train, y_train)\n",
    "y_pred = model.predict(x_valid, radius=1.2)\n",
    "accuracy_score(y_valid, y_pred)\n"
   ],
   "metadata": {
    "colab": {
     "base_uri": "https://localhost:8080/"
    },
    "id": "LE-UO_Tpx9OD",
    "outputId": "809ad373-d2a7-46e8-fb69-b306a9c11483"
   },
   "execution_count": null,
   "outputs": []
  },
  {
   "cell_type": "markdown",
   "source": [
    "#### my optimaiser"
   ],
   "metadata": {
    "id": "1olgy2p_AiVn"
   }
  },
  {
   "cell_type": "code",
   "execution_count": null,
   "metadata": {
    "colab": {
     "base_uri": "https://localhost:8080/",
     "height": 564
    },
    "id": "nnDrHoNzhtXa",
    "outputId": "9e4e72c6-bd06-4059-c6d4-816b3e4f71bf"
   },
   "outputs": [],
   "source": [
    "neighbors_range = [i for i in range(3, 30)]\n",
    "\n",
    "train_scores = []\n",
    "valid_scores = []\n",
    "test_scores = []\n",
    "train_scores1 = []\n",
    "valid_scores1 = []\n",
    "test_scores1 = []\n",
    "\n",
    "model = KNN()\n",
    "model.fit(x_train, y_train)\n",
    "\n",
    "for n_neighbors in neighbors_range:\n",
    "    y_train_pred = model.predict(x_train, n_neighbors=n_neighbors)\n",
    "    train_accuracy = accuracy_score(y_train, y_train_pred)\n",
    "    train_scores.append(train_accuracy)\n",
    "\n",
    "    y_valid_pred = model.predict(x_valid, n_neighbors=n_neighbors)\n",
    "    valid_accuracy = accuracy_score(y_valid, y_valid_pred)\n",
    "    valid_scores.append(valid_accuracy)\n",
    "\n",
    "    y_test_pred = model.predict(x_test, n_neighbors=n_neighbors)\n",
    "    test_accuracy = accuracy_score(y_test, y_test_pred)\n",
    "    test_scores.append(test_accuracy)\n",
    "\n",
    "\n",
    "plt.figure(figsize=(10, 6))\n",
    "plt.plot(neighbors_range, train_scores, label='Train Accuracy')\n",
    "plt.plot(neighbors_range, valid_scores, label='Valid (Test) Accuracy')\n",
    "plt.plot(neighbors_range, test_scores, label='Real Test Accuracy')\n",
    "\n",
    "plt.xlabel('Number of Neighbors')\n",
    "plt.ylabel('Accuracy')\n",
    "plt.title('Impact of Number of Neighbors on Model Accuracy')\n",
    "\n",
    "plt.legend()\n",
    "plt.show()"
   ]
  },
  {
   "cell_type": "markdown",
   "source": [
    "###lowess"
   ],
   "metadata": {
    "id": "i-icA_MPAlTf"
   }
  },
  {
   "cell_type": "code",
   "source": [
    "def lowess(model):\n",
    "    w = []\n",
    "    for i in range(len(x_train)):\n",
    "        x_test1 = x_test\n",
    "        y_test1 = y_test\n",
    "        x_train1 = np.delete(x_train, i, axis=0)\n",
    "        y_train1 = np.delete(y_train, i, axis=0)\n",
    "        print(x_train.shape)\n",
    "        print(x_train1.shape)\n",
    "        # model.fit\n",
    "        model.fit(x_train1, y_train1)\n",
    "\n",
    "        res = model.one_iter(x_test1, n_neighbors=10)\n",
    "        d = model.diff()\n",
    "        coef = d.get(y_test1, 0.0)\n",
    "        w.append(coef)\n",
    "    return w"
   ],
   "metadata": {
    "id": "3E3ILa39Wc99"
   },
   "execution_count": null,
   "outputs": []
  },
  {
   "cell_type": "code",
   "source": [],
   "metadata": {
    "id": "11Rv7YubiESX"
   },
   "execution_count": null,
   "outputs": []
  },
  {
   "cell_type": "code",
   "source": [
    "model = KNN()\n",
    "model.fit(x_train, y_train)\n",
    "\n",
    "w = []\n",
    "x_train_a = np.array(x_train)\n",
    "for i in range(len(x_train)):\n",
    "    x_test1 = x_train_a[i]\n",
    "    y_test1 = y_train[i]\n",
    "    x_train1 = np.delete(x_train_a, i, axis=0)\n",
    "    y_train1 = np.delete(y_train, i, axis=0)\n",
    "    model.fit(pd.DataFrame(x_train1), y_train1)\n",
    "\n",
    "    res = model.one_iter([x_test1], n_neighbors=10)\n",
    "    d = model.diff()\n",
    "    coef = d.get(y_test1, 0.0)\n",
    "    w.append(coef)\n",
    "\n"
   ],
   "metadata": {
    "id": "ddZrOiOgglZR"
   },
   "execution_count": null,
   "outputs": []
  },
  {
   "cell_type": "code",
   "source": [
    "neighbors_range = [i for i in range(3, 30)]\n",
    "\n",
    "train_scores = []\n",
    "valid_scores = []\n",
    "test_scores = []\n",
    "train_scores1 = []\n",
    "valid_scores1 = []\n",
    "test_scores1 = []\n",
    "\n",
    "model = KNN()\n",
    "model.fit(x_train, y_train)\n",
    "\n",
    "for n_neighbors in neighbors_range:\n",
    "    y_train_pred = model.predict(x_train, n_neighbors=n_neighbors)\n",
    "    train_accuracy = accuracy_score(y_train, y_train_pred)\n",
    "    train_scores.append(train_accuracy)\n",
    "\n",
    "    y_valid_pred = model.predict(x_valid, n_neighbors=n_neighbors)\n",
    "    valid_accuracy = accuracy_score(y_valid, y_valid_pred)\n",
    "    valid_scores.append(valid_accuracy)\n",
    "\n",
    "    y_test_pred = model.predict(x_test, n_neighbors=n_neighbors)\n",
    "    test_accuracy = accuracy_score(y_test, y_test_pred)\n",
    "    test_scores.append(test_accuracy)\n",
    "\n",
    "    # after\n",
    "    y_train_pred = model.predict(x_train, n_neighbors=n_neighbors, weights=w)\n",
    "    train_accuracy = accuracy_score(y_train, y_train_pred)\n",
    "    train_scores1.append(train_accuracy)\n",
    "\n",
    "    y_valid_pred = model.predict(x_valid, n_neighbors=n_neighbors, weights=w)\n",
    "    valid_accuracy = accuracy_score(y_valid, y_valid_pred)\n",
    "    valid_scores1.append(valid_accuracy)\n",
    "\n",
    "    y_test_pred = model.predict(x_test, n_neighbors=n_neighbors, weights=w)\n",
    "    test_accuracy = accuracy_score(y_test, y_test_pred)\n",
    "    test_scores1.append(test_accuracy)\n",
    "\n",
    "\n",
    "plt.figure(figsize=(10, 6))\n",
    "plt.plot(neighbors_range, train_scores, label='Train Accuracy')\n",
    "plt.plot(neighbors_range, valid_scores, label='Valid (Test) Accuracy')\n",
    "plt.plot(neighbors_range, test_scores, label='Real Test Accuracy')\n",
    "plt.plot(neighbors_range, train_scores1, label='Train Accuracy | lowess')\n",
    "plt.plot(neighbors_range, valid_scores1, label='Valid (Test) Accuracy | lowess')\n",
    "plt.plot(neighbors_range, test_scores1, label='Real Test Accuracy | lowess')\n",
    "\n",
    "plt.xlabel('Number of Neighbors')\n",
    "plt.ylabel('Accuracy')\n",
    "plt.title('Impact of Number of Neighbors on Model Accuracy')\n",
    "\n",
    "plt.legend()\n",
    "plt.show()"
   ],
   "metadata": {
    "colab": {
     "base_uri": "https://localhost:8080/",
     "height": 382
    },
    "id": "VInbXlvkfibZ",
    "outputId": "1d872883-8f4e-42e3-b064-6ba948f0d692"
   },
   "execution_count": null,
   "outputs": []
  },
  {
   "cell_type": "code",
   "source": [],
   "metadata": {
    "id": "pI5DZNY0lbv0"
   },
   "execution_count": null,
   "outputs": []
  },
  {
   "cell_type": "markdown",
   "metadata": {
    "collapsed": false,
    "id": "fZjQtOm5T03Q"
   },
   "source": []
  },
  {
   "cell_type": "markdown",
   "metadata": {
    "collapsed": false,
    "id": "fkPrE5iQT03Q"
   },
   "source": []
  },
  {
   "cell_type": "markdown",
   "metadata": {
    "collapsed": false,
    "id": "TCIFr_XtT03T"
   },
   "source": []
  }
 ],
 "metadata": {
  "colab": {
   "provenance": []
  },
  "kernelspec": {
   "display_name": "Python 3",
   "language": "python",
   "name": "python3"
  },
  "language_info": {
   "codemirror_mode": {
    "name": "ipython",
    "version": 2
   },
   "file_extension": ".py",
   "mimetype": "text/x-python",
   "name": "python",
   "nbconvert_exporter": "python",
   "pygments_lexer": "ipython2",
   "version": "2.7.6"
  },
  "widgets": {
   "application/vnd.jupyter.widget-state+json": {
    "06e69e6bdbfa4a36b4cc5273848e7945": {
     "model_module": "@jupyter-widgets/controls",
     "model_name": "HBoxModel",
     "model_module_version": "1.5.0",
     "state": {
      "_dom_classes": [],
      "_model_module": "@jupyter-widgets/controls",
      "_model_module_version": "1.5.0",
      "_model_name": "HBoxModel",
      "_view_count": null,
      "_view_module": "@jupyter-widgets/controls",
      "_view_module_version": "1.5.0",
      "_view_name": "HBoxView",
      "box_style": "",
      "children": [
       "IPY_MODEL_cd90cdd7d58f43798471487b2b0185e0",
       "IPY_MODEL_fe81eae8c5f6449caa36c19a2907d99d",
       "IPY_MODEL_b8c2cd001d124dfab83466f9eb0df71a"
      ],
      "layout": "IPY_MODEL_ad9a6e9560c84993966681d82c2fa9b1"
     }
    },
    "cd90cdd7d58f43798471487b2b0185e0": {
     "model_module": "@jupyter-widgets/controls",
     "model_name": "HTMLModel",
     "model_module_version": "1.5.0",
     "state": {
      "_dom_classes": [],
      "_model_module": "@jupyter-widgets/controls",
      "_model_module_version": "1.5.0",
      "_model_name": "HTMLModel",
      "_view_count": null,
      "_view_module": "@jupyter-widgets/controls",
      "_view_module_version": "1.5.0",
      "_view_name": "HTMLView",
      "description": "",
      "description_tooltip": null,
      "layout": "IPY_MODEL_7284137f916b482386ac4df962a04533",
      "placeholder": "​",
      "style": "IPY_MODEL_99588b1392fb40a795c5c552ef408dc1",
      "value": "Best trial: 71. Best value: 0.706667: 100%"
     }
    },
    "fe81eae8c5f6449caa36c19a2907d99d": {
     "model_module": "@jupyter-widgets/controls",
     "model_name": "FloatProgressModel",
     "model_module_version": "1.5.0",
     "state": {
      "_dom_classes": [],
      "_model_module": "@jupyter-widgets/controls",
      "_model_module_version": "1.5.0",
      "_model_name": "FloatProgressModel",
      "_view_count": null,
      "_view_module": "@jupyter-widgets/controls",
      "_view_module_version": "1.5.0",
      "_view_name": "ProgressView",
      "bar_style": "success",
      "description": "",
      "description_tooltip": null,
      "layout": "IPY_MODEL_e0e39cf987e749719a4f256231db7b5a",
      "max": 400,
      "min": 0,
      "orientation": "horizontal",
      "style": "IPY_MODEL_ea6a77b858bf48f5bf25a65fd8334542",
      "value": 400
     }
    },
    "b8c2cd001d124dfab83466f9eb0df71a": {
     "model_module": "@jupyter-widgets/controls",
     "model_name": "HTMLModel",
     "model_module_version": "1.5.0",
     "state": {
      "_dom_classes": [],
      "_model_module": "@jupyter-widgets/controls",
      "_model_module_version": "1.5.0",
      "_model_name": "HTMLModel",
      "_view_count": null,
      "_view_module": "@jupyter-widgets/controls",
      "_view_module_version": "1.5.0",
      "_view_name": "HTMLView",
      "description": "",
      "description_tooltip": null,
      "layout": "IPY_MODEL_2c9620e51a264e0087e9534cb51f8455",
      "placeholder": "​",
      "style": "IPY_MODEL_54a827b9b8ec424d96874ab13db1561f",
      "value": " 400/400 [00:14&lt;00:00, 18.72it/s]"
     }
    },
    "ad9a6e9560c84993966681d82c2fa9b1": {
     "model_module": "@jupyter-widgets/base",
     "model_name": "LayoutModel",
     "model_module_version": "1.2.0",
     "state": {
      "_model_module": "@jupyter-widgets/base",
      "_model_module_version": "1.2.0",
      "_model_name": "LayoutModel",
      "_view_count": null,
      "_view_module": "@jupyter-widgets/base",
      "_view_module_version": "1.2.0",
      "_view_name": "LayoutView",
      "align_content": null,
      "align_items": null,
      "align_self": null,
      "border": null,
      "bottom": null,
      "display": null,
      "flex": null,
      "flex_flow": null,
      "grid_area": null,
      "grid_auto_columns": null,
      "grid_auto_flow": null,
      "grid_auto_rows": null,
      "grid_column": null,
      "grid_gap": null,
      "grid_row": null,
      "grid_template_areas": null,
      "grid_template_columns": null,
      "grid_template_rows": null,
      "height": null,
      "justify_content": null,
      "justify_items": null,
      "left": null,
      "margin": null,
      "max_height": null,
      "max_width": null,
      "min_height": null,
      "min_width": null,
      "object_fit": null,
      "object_position": null,
      "order": null,
      "overflow": null,
      "overflow_x": null,
      "overflow_y": null,
      "padding": null,
      "right": null,
      "top": null,
      "visibility": null,
      "width": null
     }
    },
    "7284137f916b482386ac4df962a04533": {
     "model_module": "@jupyter-widgets/base",
     "model_name": "LayoutModel",
     "model_module_version": "1.2.0",
     "state": {
      "_model_module": "@jupyter-widgets/base",
      "_model_module_version": "1.2.0",
      "_model_name": "LayoutModel",
      "_view_count": null,
      "_view_module": "@jupyter-widgets/base",
      "_view_module_version": "1.2.0",
      "_view_name": "LayoutView",
      "align_content": null,
      "align_items": null,
      "align_self": null,
      "border": null,
      "bottom": null,
      "display": null,
      "flex": null,
      "flex_flow": null,
      "grid_area": null,
      "grid_auto_columns": null,
      "grid_auto_flow": null,
      "grid_auto_rows": null,
      "grid_column": null,
      "grid_gap": null,
      "grid_row": null,
      "grid_template_areas": null,
      "grid_template_columns": null,
      "grid_template_rows": null,
      "height": null,
      "justify_content": null,
      "justify_items": null,
      "left": null,
      "margin": null,
      "max_height": null,
      "max_width": null,
      "min_height": null,
      "min_width": null,
      "object_fit": null,
      "object_position": null,
      "order": null,
      "overflow": null,
      "overflow_x": null,
      "overflow_y": null,
      "padding": null,
      "right": null,
      "top": null,
      "visibility": null,
      "width": null
     }
    },
    "99588b1392fb40a795c5c552ef408dc1": {
     "model_module": "@jupyter-widgets/controls",
     "model_name": "DescriptionStyleModel",
     "model_module_version": "1.5.0",
     "state": {
      "_model_module": "@jupyter-widgets/controls",
      "_model_module_version": "1.5.0",
      "_model_name": "DescriptionStyleModel",
      "_view_count": null,
      "_view_module": "@jupyter-widgets/base",
      "_view_module_version": "1.2.0",
      "_view_name": "StyleView",
      "description_width": ""
     }
    },
    "e0e39cf987e749719a4f256231db7b5a": {
     "model_module": "@jupyter-widgets/base",
     "model_name": "LayoutModel",
     "model_module_version": "1.2.0",
     "state": {
      "_model_module": "@jupyter-widgets/base",
      "_model_module_version": "1.2.0",
      "_model_name": "LayoutModel",
      "_view_count": null,
      "_view_module": "@jupyter-widgets/base",
      "_view_module_version": "1.2.0",
      "_view_name": "LayoutView",
      "align_content": null,
      "align_items": null,
      "align_self": null,
      "border": null,
      "bottom": null,
      "display": null,
      "flex": null,
      "flex_flow": null,
      "grid_area": null,
      "grid_auto_columns": null,
      "grid_auto_flow": null,
      "grid_auto_rows": null,
      "grid_column": null,
      "grid_gap": null,
      "grid_row": null,
      "grid_template_areas": null,
      "grid_template_columns": null,
      "grid_template_rows": null,
      "height": null,
      "justify_content": null,
      "justify_items": null,
      "left": null,
      "margin": null,
      "max_height": null,
      "max_width": null,
      "min_height": null,
      "min_width": null,
      "object_fit": null,
      "object_position": null,
      "order": null,
      "overflow": null,
      "overflow_x": null,
      "overflow_y": null,
      "padding": null,
      "right": null,
      "top": null,
      "visibility": null,
      "width": null
     }
    },
    "ea6a77b858bf48f5bf25a65fd8334542": {
     "model_module": "@jupyter-widgets/controls",
     "model_name": "ProgressStyleModel",
     "model_module_version": "1.5.0",
     "state": {
      "_model_module": "@jupyter-widgets/controls",
      "_model_module_version": "1.5.0",
      "_model_name": "ProgressStyleModel",
      "_view_count": null,
      "_view_module": "@jupyter-widgets/base",
      "_view_module_version": "1.2.0",
      "_view_name": "StyleView",
      "bar_color": null,
      "description_width": ""
     }
    },
    "2c9620e51a264e0087e9534cb51f8455": {
     "model_module": "@jupyter-widgets/base",
     "model_name": "LayoutModel",
     "model_module_version": "1.2.0",
     "state": {
      "_model_module": "@jupyter-widgets/base",
      "_model_module_version": "1.2.0",
      "_model_name": "LayoutModel",
      "_view_count": null,
      "_view_module": "@jupyter-widgets/base",
      "_view_module_version": "1.2.0",
      "_view_name": "LayoutView",
      "align_content": null,
      "align_items": null,
      "align_self": null,
      "border": null,
      "bottom": null,
      "display": null,
      "flex": null,
      "flex_flow": null,
      "grid_area": null,
      "grid_auto_columns": null,
      "grid_auto_flow": null,
      "grid_auto_rows": null,
      "grid_column": null,
      "grid_gap": null,
      "grid_row": null,
      "grid_template_areas": null,
      "grid_template_columns": null,
      "grid_template_rows": null,
      "height": null,
      "justify_content": null,
      "justify_items": null,
      "left": null,
      "margin": null,
      "max_height": null,
      "max_width": null,
      "min_height": null,
      "min_width": null,
      "object_fit": null,
      "object_position": null,
      "order": null,
      "overflow": null,
      "overflow_x": null,
      "overflow_y": null,
      "padding": null,
      "right": null,
      "top": null,
      "visibility": null,
      "width": null
     }
    },
    "54a827b9b8ec424d96874ab13db1561f": {
     "model_module": "@jupyter-widgets/controls",
     "model_name": "DescriptionStyleModel",
     "model_module_version": "1.5.0",
     "state": {
      "_model_module": "@jupyter-widgets/controls",
      "_model_module_version": "1.5.0",
      "_model_name": "DescriptionStyleModel",
      "_view_count": null,
      "_view_module": "@jupyter-widgets/base",
      "_view_module_version": "1.2.0",
      "_view_name": "StyleView",
      "description_width": ""
     }
    },
    "eda728517a1f4e0a83e4dfe111859179": {
     "model_module": "@jupyter-widgets/controls",
     "model_name": "HBoxModel",
     "model_module_version": "1.5.0",
     "state": {
      "_dom_classes": [],
      "_model_module": "@jupyter-widgets/controls",
      "_model_module_version": "1.5.0",
      "_model_name": "HBoxModel",
      "_view_count": null,
      "_view_module": "@jupyter-widgets/controls",
      "_view_module_version": "1.5.0",
      "_view_name": "HBoxView",
      "box_style": "",
      "children": [
       "IPY_MODEL_f864ac158a994fd59cbb839721e0a668",
       "IPY_MODEL_faa57e19189646a893182811cef04369",
       "IPY_MODEL_2f02009ddcb6485184d96aa361ccd9b5"
      ],
      "layout": "IPY_MODEL_6e884c79a4ee4b3c870071b53e22ac9e"
     }
    },
    "f864ac158a994fd59cbb839721e0a668": {
     "model_module": "@jupyter-widgets/controls",
     "model_name": "HTMLModel",
     "model_module_version": "1.5.0",
     "state": {
      "_dom_classes": [],
      "_model_module": "@jupyter-widgets/controls",
      "_model_module_version": "1.5.0",
      "_model_name": "HTMLModel",
      "_view_count": null,
      "_view_module": "@jupyter-widgets/controls",
      "_view_module_version": "1.5.0",
      "_view_name": "HTMLView",
      "description": "",
      "description_tooltip": null,
      "layout": "IPY_MODEL_6c4fc53922984967a9a59a08bc286a08",
      "placeholder": "​",
      "style": "IPY_MODEL_2648bc78734549baa0ef241f1f813131",
      "value": "Best trial: 120. Best value: 0.7: 100%"
     }
    },
    "faa57e19189646a893182811cef04369": {
     "model_module": "@jupyter-widgets/controls",
     "model_name": "FloatProgressModel",
     "model_module_version": "1.5.0",
     "state": {
      "_dom_classes": [],
      "_model_module": "@jupyter-widgets/controls",
      "_model_module_version": "1.5.0",
      "_model_name": "FloatProgressModel",
      "_view_count": null,
      "_view_module": "@jupyter-widgets/controls",
      "_view_module_version": "1.5.0",
      "_view_name": "ProgressView",
      "bar_style": "success",
      "description": "",
      "description_tooltip": null,
      "layout": "IPY_MODEL_159c36de14f244a1ade6410368085000",
      "max": 400,
      "min": 0,
      "orientation": "horizontal",
      "style": "IPY_MODEL_57dc1767e9a146c7a5a95c767b3a2789",
      "value": 400
     }
    },
    "2f02009ddcb6485184d96aa361ccd9b5": {
     "model_module": "@jupyter-widgets/controls",
     "model_name": "HTMLModel",
     "model_module_version": "1.5.0",
     "state": {
      "_dom_classes": [],
      "_model_module": "@jupyter-widgets/controls",
      "_model_module_version": "1.5.0",
      "_model_name": "HTMLModel",
      "_view_count": null,
      "_view_module": "@jupyter-widgets/controls",
      "_view_module_version": "1.5.0",
      "_view_name": "HTMLView",
      "description": "",
      "description_tooltip": null,
      "layout": "IPY_MODEL_2b028cd822dd403495b5164c34c616f7",
      "placeholder": "​",
      "style": "IPY_MODEL_d865199a2835404f84fef41bbe7822bf",
      "value": " 400/400 [07:33&lt;00:00,  1.19s/it]"
     }
    },
    "6e884c79a4ee4b3c870071b53e22ac9e": {
     "model_module": "@jupyter-widgets/base",
     "model_name": "LayoutModel",
     "model_module_version": "1.2.0",
     "state": {
      "_model_module": "@jupyter-widgets/base",
      "_model_module_version": "1.2.0",
      "_model_name": "LayoutModel",
      "_view_count": null,
      "_view_module": "@jupyter-widgets/base",
      "_view_module_version": "1.2.0",
      "_view_name": "LayoutView",
      "align_content": null,
      "align_items": null,
      "align_self": null,
      "border": null,
      "bottom": null,
      "display": null,
      "flex": null,
      "flex_flow": null,
      "grid_area": null,
      "grid_auto_columns": null,
      "grid_auto_flow": null,
      "grid_auto_rows": null,
      "grid_column": null,
      "grid_gap": null,
      "grid_row": null,
      "grid_template_areas": null,
      "grid_template_columns": null,
      "grid_template_rows": null,
      "height": null,
      "justify_content": null,
      "justify_items": null,
      "left": null,
      "margin": null,
      "max_height": null,
      "max_width": null,
      "min_height": null,
      "min_width": null,
      "object_fit": null,
      "object_position": null,
      "order": null,
      "overflow": null,
      "overflow_x": null,
      "overflow_y": null,
      "padding": null,
      "right": null,
      "top": null,
      "visibility": null,
      "width": null
     }
    },
    "6c4fc53922984967a9a59a08bc286a08": {
     "model_module": "@jupyter-widgets/base",
     "model_name": "LayoutModel",
     "model_module_version": "1.2.0",
     "state": {
      "_model_module": "@jupyter-widgets/base",
      "_model_module_version": "1.2.0",
      "_model_name": "LayoutModel",
      "_view_count": null,
      "_view_module": "@jupyter-widgets/base",
      "_view_module_version": "1.2.0",
      "_view_name": "LayoutView",
      "align_content": null,
      "align_items": null,
      "align_self": null,
      "border": null,
      "bottom": null,
      "display": null,
      "flex": null,
      "flex_flow": null,
      "grid_area": null,
      "grid_auto_columns": null,
      "grid_auto_flow": null,
      "grid_auto_rows": null,
      "grid_column": null,
      "grid_gap": null,
      "grid_row": null,
      "grid_template_areas": null,
      "grid_template_columns": null,
      "grid_template_rows": null,
      "height": null,
      "justify_content": null,
      "justify_items": null,
      "left": null,
      "margin": null,
      "max_height": null,
      "max_width": null,
      "min_height": null,
      "min_width": null,
      "object_fit": null,
      "object_position": null,
      "order": null,
      "overflow": null,
      "overflow_x": null,
      "overflow_y": null,
      "padding": null,
      "right": null,
      "top": null,
      "visibility": null,
      "width": null
     }
    },
    "2648bc78734549baa0ef241f1f813131": {
     "model_module": "@jupyter-widgets/controls",
     "model_name": "DescriptionStyleModel",
     "model_module_version": "1.5.0",
     "state": {
      "_model_module": "@jupyter-widgets/controls",
      "_model_module_version": "1.5.0",
      "_model_name": "DescriptionStyleModel",
      "_view_count": null,
      "_view_module": "@jupyter-widgets/base",
      "_view_module_version": "1.2.0",
      "_view_name": "StyleView",
      "description_width": ""
     }
    },
    "159c36de14f244a1ade6410368085000": {
     "model_module": "@jupyter-widgets/base",
     "model_name": "LayoutModel",
     "model_module_version": "1.2.0",
     "state": {
      "_model_module": "@jupyter-widgets/base",
      "_model_module_version": "1.2.0",
      "_model_name": "LayoutModel",
      "_view_count": null,
      "_view_module": "@jupyter-widgets/base",
      "_view_module_version": "1.2.0",
      "_view_name": "LayoutView",
      "align_content": null,
      "align_items": null,
      "align_self": null,
      "border": null,
      "bottom": null,
      "display": null,
      "flex": null,
      "flex_flow": null,
      "grid_area": null,
      "grid_auto_columns": null,
      "grid_auto_flow": null,
      "grid_auto_rows": null,
      "grid_column": null,
      "grid_gap": null,
      "grid_row": null,
      "grid_template_areas": null,
      "grid_template_columns": null,
      "grid_template_rows": null,
      "height": null,
      "justify_content": null,
      "justify_items": null,
      "left": null,
      "margin": null,
      "max_height": null,
      "max_width": null,
      "min_height": null,
      "min_width": null,
      "object_fit": null,
      "object_position": null,
      "order": null,
      "overflow": null,
      "overflow_x": null,
      "overflow_y": null,
      "padding": null,
      "right": null,
      "top": null,
      "visibility": null,
      "width": null
     }
    },
    "57dc1767e9a146c7a5a95c767b3a2789": {
     "model_module": "@jupyter-widgets/controls",
     "model_name": "ProgressStyleModel",
     "model_module_version": "1.5.0",
     "state": {
      "_model_module": "@jupyter-widgets/controls",
      "_model_module_version": "1.5.0",
      "_model_name": "ProgressStyleModel",
      "_view_count": null,
      "_view_module": "@jupyter-widgets/base",
      "_view_module_version": "1.2.0",
      "_view_name": "StyleView",
      "bar_color": null,
      "description_width": ""
     }
    },
    "2b028cd822dd403495b5164c34c616f7": {
     "model_module": "@jupyter-widgets/base",
     "model_name": "LayoutModel",
     "model_module_version": "1.2.0",
     "state": {
      "_model_module": "@jupyter-widgets/base",
      "_model_module_version": "1.2.0",
      "_model_name": "LayoutModel",
      "_view_count": null,
      "_view_module": "@jupyter-widgets/base",
      "_view_module_version": "1.2.0",
      "_view_name": "LayoutView",
      "align_content": null,
      "align_items": null,
      "align_self": null,
      "border": null,
      "bottom": null,
      "display": null,
      "flex": null,
      "flex_flow": null,
      "grid_area": null,
      "grid_auto_columns": null,
      "grid_auto_flow": null,
      "grid_auto_rows": null,
      "grid_column": null,
      "grid_gap": null,
      "grid_row": null,
      "grid_template_areas": null,
      "grid_template_columns": null,
      "grid_template_rows": null,
      "height": null,
      "justify_content": null,
      "justify_items": null,
      "left": null,
      "margin": null,
      "max_height": null,
      "max_width": null,
      "min_height": null,
      "min_width": null,
      "object_fit": null,
      "object_position": null,
      "order": null,
      "overflow": null,
      "overflow_x": null,
      "overflow_y": null,
      "padding": null,
      "right": null,
      "top": null,
      "visibility": null,
      "width": null
     }
    },
    "d865199a2835404f84fef41bbe7822bf": {
     "model_module": "@jupyter-widgets/controls",
     "model_name": "DescriptionStyleModel",
     "model_module_version": "1.5.0",
     "state": {
      "_model_module": "@jupyter-widgets/controls",
      "_model_module_version": "1.5.0",
      "_model_name": "DescriptionStyleModel",
      "_view_count": null,
      "_view_module": "@jupyter-widgets/base",
      "_view_module_version": "1.2.0",
      "_view_name": "StyleView",
      "description_width": ""
     }
    }
   }
  }
 },
 "nbformat": 4,
 "nbformat_minor": 0
}
